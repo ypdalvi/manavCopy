{
 "cells": [
  {
   "cell_type": "markdown",
   "metadata": {},
   "source": [
    "EXPERIMENT 10 OUTPUT:-\n",
    "\n",
    "READING THE CSV FILE"
   ]
  },
  {
   "cell_type": "code",
   "execution_count": 1,
   "metadata": {},
   "outputs": [
    {
     "name": "stdout",
     "output_type": "stream",
     "text": [
      "   # P_ID   T_ID   P_Name  P_Gender   Class  Amount  Time_ID    S_ID S_Name\n",
      "0   30001  40035     Yash         M   First     100   900001  700001    CHE\n",
      "1   30002  40036   Vedant         M  Second      75   900002  700002    TMN\n",
      "2   30003  40037    Manav         M  Second      75   900003  700003    KOL\n"
     ]
    }
   ],
   "source": [
    "import pandas as pd\n",
    "ds = pd.read_csv(\"transport.csv\", encoding='latin-1')\n",
    "print(ds.head(3))"
   ]
  },
  {
   "cell_type": "markdown",
   "metadata": {},
   "source": [
    "DATATYPES OF PARTICULAR COLUMN"
   ]
  },
  {
   "cell_type": "code",
   "execution_count": 4,
   "metadata": {},
   "outputs": [
    {
     "name": "stdout",
     "output_type": "stream",
     "text": [
      "object\n"
     ]
    }
   ],
   "source": [
    "import pandas as pd\n",
    "ds = pd.read_csv(\"transport.csv\", encoding='latin-1')\n",
    "print(ds[' P_Gender'].dtype)"
   ]
  },
  {
   "cell_type": "markdown",
   "metadata": {},
   "source": [
    "COLUMN NAMES"
   ]
  },
  {
   "cell_type": "code",
   "execution_count": 5,
   "metadata": {},
   "outputs": [
    {
     "name": "stdout",
     "output_type": "stream",
     "text": [
      "List of columns is:- ['# P_ID', 'T_ID', ' P_Name', ' P_Gender', 'Class', 'Amount', 'Time_ID', 'S_ID', 'S_Name']\n"
     ]
    }
   ],
   "source": [
    "import pandas as pd\n",
    "ds = pd.read_csv(\"transport.csv\", encoding='latin-1')\n",
    "columns_list = list(ds.columns)\n",
    "print('List of columns is:-', columns_list)"
   ]
  },
  {
   "cell_type": "markdown",
   "metadata": {},
   "source": [
    "DATA TYPES"
   ]
  },
  {
   "cell_type": "code",
   "execution_count": 8,
   "metadata": {},
   "outputs": [
    {
     "name": "stdout",
     "output_type": "stream",
     "text": [
      "# P_ID        int64\n",
      "T_ID          int64\n",
      " P_Name      object\n",
      " P_Gender    object\n",
      "Class        object\n",
      "Amount        int64\n",
      "Time_ID       int64\n",
      "S_ID          int64\n",
      "S_Name       object\n",
      "dtype: object\n"
     ]
    }
   ],
   "source": [
    "import pandas as pd\n",
    "ds = pd.read_csv(\"transport.csv\", encoding='latin-1')\n",
    "print(ds.dtypes)"
   ]
  },
  {
   "cell_type": "markdown",
   "metadata": {},
   "source": [
    "NO OF DIMENSIONS"
   ]
  },
  {
   "cell_type": "code",
   "execution_count": 9,
   "metadata": {},
   "outputs": [
    {
     "name": "stdout",
     "output_type": "stream",
     "text": [
      "2\n"
     ]
    }
   ],
   "source": [
    "import pandas as pd\n",
    "ds = pd.read_csv(\"transport.csv\", encoding='latin-1')\n",
    "print(ds.ndim)"
   ]
  },
  {
   "cell_type": "markdown",
   "metadata": {},
   "source": [
    "MAX()"
   ]
  },
  {
   "cell_type": "code",
   "execution_count": 11,
   "metadata": {},
   "outputs": [
    {
     "name": "stdout",
     "output_type": "stream",
     "text": [
      "Max Ticket Cost:-\n",
      "100\n"
     ]
    }
   ],
   "source": [
    "import pandas as pd\n",
    "ds = pd.read_csv(\"transport.csv\", encoding='latin-1')\n",
    "print('Max Ticket Cost:-')\n",
    "print(ds['Amount'].max())"
   ]
  },
  {
   "cell_type": "markdown",
   "metadata": {},
   "source": [
    "MINIMUM()"
   ]
  },
  {
   "cell_type": "code",
   "execution_count": 12,
   "metadata": {},
   "outputs": [
    {
     "name": "stdout",
     "output_type": "stream",
     "text": [
      "Minimum Ticket Cost:-\n",
      "25\n"
     ]
    }
   ],
   "source": [
    "import pandas as pd\n",
    "ds = pd.read_csv(\"transport.csv\", encoding='latin-1')\n",
    "print('Minimum Ticket Cost:-')\n",
    "print(ds['Amount'].min())"
   ]
  },
  {
   "cell_type": "markdown",
   "metadata": {},
   "source": [
    "MEAN()"
   ]
  },
  {
   "cell_type": "code",
   "execution_count": 14,
   "metadata": {},
   "outputs": [
    {
     "name": "stdout",
     "output_type": "stream",
     "text": [
      "Mean Ticket Cost:-\n",
      "66.5\n"
     ]
    }
   ],
   "source": [
    "import pandas as pd\n",
    "ds = pd.read_csv(\"transport.csv\", encoding='latin-1')\n",
    "print('Mean Ticket Cost:-')\n",
    "print(ds['Amount'].mean())"
   ]
  },
  {
   "cell_type": "markdown",
   "metadata": {},
   "source": [
    "MEDIAN()"
   ]
  },
  {
   "cell_type": "code",
   "execution_count": 21,
   "metadata": {},
   "outputs": [
    {
     "name": "stdout",
     "output_type": "stream",
     "text": [
      "Median of Ticket Cost:-\n",
      "75.0\n"
     ]
    }
   ],
   "source": [
    "import pandas as pd\n",
    "ds = pd.read_csv(\"transport.csv\", encoding='latin-1')\n",
    "print('Median of Ticket Cost:-')\n",
    "print(ds['Amount'].median())"
   ]
  },
  {
   "cell_type": "markdown",
   "metadata": {},
   "source": [
    "GROUP BY"
   ]
  },
  {
   "cell_type": "code",
   "execution_count": 20,
   "metadata": {},
   "outputs": [
    {
     "name": "stdout",
     "output_type": "stream",
     "text": [
      "Class\n",
      "First     94.642857\n",
      "Second    75.000000\n",
      "Third     25.000000\n",
      "Name: Amount, dtype: float64\n"
     ]
    }
   ],
   "source": [
    "import pandas as pd\n",
    "ds = pd.read_csv(\"transport.csv\", encoding='latin-1')\n",
    "print(ds.groupby('Class')['Amount'].mean())"
   ]
  },
  {
   "cell_type": "markdown",
   "metadata": {},
   "source": [
    "FILTERING"
   ]
  },
  {
   "cell_type": "code",
   "execution_count": 23,
   "metadata": {},
   "outputs": [
    {
     "name": "stdout",
     "output_type": "stream",
     "text": [
      "    # P_ID   T_ID     P_Name  P_Gender  Class  Amount  Time_ID    S_ID S_Name\n",
      "3    30004  40035      Etash         M  Third      25   900004  700004    PUN\n",
      "10   30011  40045      Amogh         M  Third      25   900011  700011    AMD\n",
      "17   30018  40036     Ramesh         M  Third      25   900018  700018    MYS\n",
      "18   30019  40038     Suresh         M  Third      25   900019  700019    JSL\n",
      "21   30022  40041      Rohan         M  Third      25   900022  700022    KGP\n",
      "27   30028  40042     Rachna         F  Third      25   900028  700028    SOL\n",
      "28   30029  40041  Aishwarya         F  Third      25   900029  700029    BNG\n",
      "32   30033  40035     Hardik         M  First      25   900033  700033    JAI\n",
      "34   30035  40036      Kunal         M  Third      25   900035  700035    AMD\n",
      "35   30036  40035     Shweta         F  Third      25   900036  700036    HAR\n",
      "36   30037  40037    Sarthak         M  Third      25   900037  700037    JOD\n",
      "41   30042  40041       Riya         F  Third      25   900042  700042    MYS\n",
      "43   30044  40039      Kabir         M  Third      25   900044  700044    DEL\n",
      "46   30047  40035        Jay         M  Third      25   900047  700047    SOL\n",
      "49   30050  40039     Anjali         F  Third      25   900050  700050    DEL\n"
     ]
    }
   ],
   "source": [
    "import pandas as pd\n",
    "ds = pd.read_csv(\"transport.csv\", encoding='latin-1')\n",
    "print(ds[ds['Amount']<75])"
   ]
  },
  {
   "cell_type": "markdown",
   "metadata": {},
   "source": [
    "SLICING"
   ]
  },
  {
   "cell_type": "code",
   "execution_count": 26,
   "metadata": {},
   "outputs": [
    {
     "name": "stdout",
     "output_type": "stream",
     "text": [
      "    Amount   Class\n",
      "10      25   Third\n",
      "11      75  Second\n",
      "12     100   First\n",
      "13      75  Second\n",
      "14     100   First\n",
      "15      75  Second\n",
      "16     100   First\n",
      "17      25   Third\n",
      "18      25   Third\n",
      "19      75  Second\n",
      "20     100   First\n"
     ]
    }
   ],
   "source": [
    "import pandas as pd\n",
    "ds = pd.read_csv(\"transport.csv\", encoding='latin-1')\n",
    "print(ds.loc[10:20,['Amount','Class']])"
   ]
  },
  {
   "cell_type": "markdown",
   "metadata": {},
   "source": [
    "HISTOGRAM"
   ]
  },
  {
   "cell_type": "code",
   "execution_count": 28,
   "metadata": {},
   "outputs": [
    {
     "data": {
      "image/png": "[encoded data removed]",
      "text/plain": [
       "<Figure size 640x480 with 1 Axes>"
      ]
     },
     "metadata": {},
     "output_type": "display_data"
    }
   ],
   "source": [
    "import pandas as pd\n",
    "import matplotlib.pyplot as plt\n",
    "ds = pd.read_csv(\"transport.csv\", encoding='latin-1')\n",
    "fig = plt.figure()\n",
    "ax = fig.add_subplot(1,1,1)\n",
    "ax.hist(ds[\"Class\"], bins = 3, facecolor = 'blue', edgecolor = 'black')\n",
    "plt.xticks(rotation = 45)\n",
    "plt.show()"
   ]
  },
  {
   "cell_type": "markdown",
   "metadata": {},
   "source": [
    "CLUSTERING"
   ]
  },
  {
   "cell_type": "code",
   "execution_count": 53,
   "metadata": {},
   "outputs": [
    {
     "data": {
      "image/png": "[encoded data removed]",
      "text/plain": [
       "<Figure size 640x480 with 1 Axes>"
      ]
     },
     "metadata": {},
     "output_type": "display_data"
    }
   ],
   "source": [
    "import pandas as pd\n",
    "import matplotlib.pyplot as plt\n",
    "ds = pd.read_csv(\"transport.csv\", encoding='latin-1')\n",
    "fig = plt.figure()\n",
    "ax = fig.add_subplot(1,1,1)\n",
    "ax.scatter(ds['S_Name'], ds['Class'])\n",
    "plt.show()"
   ]
  },
  {
   "cell_type": "markdown",
   "metadata": {},
   "source": [
    "NULL COLUMNS WITH 0"
   ]
  },
  {
   "cell_type": "code",
   "execution_count": 36,
   "metadata": {},
   "outputs": [
    {
     "name": "stdout",
     "output_type": "stream",
     "text": [
      "   # P_ID   T_ID   P_Name  P_Gender   Class  Amount  Time_ID    S_ID S_Name\n",
      "0   30001  40035     Yash         M   First     100   900001  700001    CHE\n",
      "1   30002  40036   Vedant         M  Second      75   900002  700002    TMN\n",
      "2   30003  40037    Manav         M  Second      75   900003  700003    KOL\n",
      "3   30004  40035    Etash         M   Third      25   900004  700004    PUN\n",
      "4   30005  40037    Dalvi         M   First     100   900005  700005    NAS\n"
     ]
    }
   ],
   "source": [
    "import pandas as pd\n",
    "ds = pd.read_csv(\"transport.csv\", encoding='latin-1')\n",
    "newds = ds.fillna(0)\n",
    "print(newds.head())"
   ]
  },
  {
   "cell_type": "markdown",
   "metadata": {},
   "source": [
    "NOT NULL COLUMNS"
   ]
  },
  {
   "cell_type": "code",
   "execution_count": 37,
   "metadata": {},
   "outputs": [
    {
     "name": "stdout",
     "output_type": "stream",
     "text": [
      "   # P_ID  T_ID   P_Name   P_Gender  Class  Amount  Time_ID  S_ID  S_Name\n",
      "0    True  True     True       True   True    True     True  True    True\n",
      "1    True  True     True       True   True    True     True  True    True\n",
      "2    True  True     True       True   True    True     True  True    True\n",
      "3    True  True     True       True   True    True     True  True    True\n",
      "4    True  True     True       True   True    True     True  True    True\n"
     ]
    }
   ],
   "source": [
    "import pandas as pd\n",
    "ds = pd.read_csv(\"transport.csv\", encoding='latin-1')\n",
    "newds = ds.notnull()\n",
    "print(newds.head())"
   ]
  },
  {
   "cell_type": "markdown",
   "metadata": {},
   "source": [
    "DUPLICATE VALUES"
   ]
  },
  {
   "cell_type": "code",
   "execution_count": 38,
   "metadata": {},
   "outputs": [
    {
     "name": "stdout",
     "output_type": "stream",
     "text": [
      "    # P_ID   T_ID     P_Name  P_Gender   Class  Amount  Time_ID    S_ID S_Name\n",
      "0    30001  40035       Yash         M   First     100   900001  700001    CHE\n",
      "1    30002  40036     Vedant         M  Second      75   900002  700002    TMN\n",
      "2    30003  40037      Manav         M  Second      75   900003  700003    KOL\n",
      "3    30004  40035      Etash         M   Third      25   900004  700004    PUN\n",
      "4    30005  40037      Dalvi         M   First     100   900005  700005    NAS\n",
      "5    30006  40038   Krishana         M  Second      75   900006  700006    JAI\n",
      "6    30007  40039      Ayush         M   First     100   900007  700007    AGR\n",
      "7    30008  40044    Prajwal         M  Second      75   900008  700008    GOA\n",
      "8    30009  40035     Yashna         F   First     100   900009  700009    NAG\n",
      "9    30010  40039     Ananya         F   First     100   900010  700010    BNG\n",
      "10   30011  40045      Amogh         M   Third      25   900011  700011    AMD\n",
      "11   30012  40041     Daksha         F  Second      75   900012  700012    JOD\n",
      "12   30013  40041      Amaan         M   First     100   900013  700013    HAR\n",
      "13   30014  40042    Bhavesh         M  Second      75   900014  700014    FAZ\n",
      "14   30015  40045      Komal         F   First     100   900015  700015    RAI\n",
      "15   30016  40039     Rajesh         M  Second      75   900016  700016    SOL\n",
      "16   30017  40045      Rakhi         F   First     100   900017  700017    HYD\n",
      "17   30018  40036     Ramesh         M   Third      25   900018  700018    MYS\n",
      "18   30019  40038     Suresh         M   Third      25   900019  700019    JSL\n",
      "19   30020  40037     Nikita         F  Second      75   900020  700020    MUM\n",
      "20   30021  40044      Sejal         F   First     100   900021  700021    DEL\n",
      "21   30022  40041      Rohan         M   Third      25   900022  700022    KGP\n",
      "22   30023  40039    Sailesh         M  Second      75   900023  700023    PAT\n",
      "23   30024  40035    Archana         F  Second      75   900024  700024    LUK\n",
      "24   30025  40036     Sameer         M  Second      75   900025  700025    KAL\n",
      "25   30026  40034     Samuel         M   First     100   900026  700026    NAG\n",
      "26   30027  40044       Ritu         F   First     100   900027  700027    CHE\n",
      "27   30028  40042     Rachna         F   Third      25   900028  700028    SOL\n",
      "28   30029  40041  Aishwarya         F   Third      25   900029  700029    BNG\n",
      "29   30030  40045     Aditya         M  Second      75   900030  700030    JAI\n",
      "30   30031  40039      Mihir         M  Second      75   900031  700031    NAS\n",
      "31   30032  40037     Vatsal         M  Second      75   900032  700032    PUN\n",
      "32   30033  40035     Hardik         M   First      25   900033  700033    JAI\n",
      "33   30034  40039     Shilpa         F  Second      75   900034  700034    GOA\n",
      "34   30035  40036      Kunal         M   Third      25   900035  700035    AMD\n",
      "35   30036  40035     Shweta         F   Third      25   900036  700036    HAR\n",
      "36   30037  40037    Sarthak         M   Third      25   900037  700037    JOD\n",
      "37   30038  40044     Neeraj         M  Second      75   900038  700038    BNG\n",
      "38   30039  40041       Prem         M  Second      75   900039  700039    AMD\n",
      "39   30040  40045    Tamanna         F  Second      75   900040  700040    PAT\n",
      "40   30041  40039     Rachit         M   First     100   900041  700041    HYD\n",
      "41   30042  40041       Riya         F   Third      25   900042  700042    MYS\n",
      "42   30043  40040      Mohit         M  Second      75   900043  700043    MUM\n",
      "43   30044  40039      Kabir         M   Third      25   900044  700044    DEL\n",
      "44   30045  40044      Ishan         M  Second      75   900045  700045    KAL\n",
      "45   30046  40037      Inaya         F  Second      75   900046  700046    KGP\n",
      "46   30047  40035        Jay         M   Third      25   900047  700047    SOL\n",
      "47   30048  40036      Dhruv         M   First     100   900048  700048    RAI\n",
      "48   30049  40040       Jaya         F  Second      75   900049  700049    JSL\n",
      "49   30050  40039     Anjali         F   Third      25   900050  700050    DEL\n"
     ]
    }
   ],
   "source": [
    "import pandas as pd\n",
    "ds = pd.read_csv(\"transport.csv\", encoding='latin-1')\n",
    "newds = ds.duplicated()\n",
    "print(newdf)"
   ]
  }
 ],
 "metadata": {
  "kernelspec": {
   "display_name": "Python 3.10.7 64-bit",
   "language": "python",
   "name": "python3"
  },
  "language_info": {
   "codemirror_mode": {
    "name": "ipython",
    "version": 3
   },
   "file_extension": ".py",
   "mimetype": "text/x-python",
   "name": "python",
   "nbconvert_exporter": "python",
   "pygments_lexer": "ipython3",
   "version": "3.10.7"
  },
  "orig_nbformat": 4,
  "vscode": {
   "interpreter": {
    "hash": "a42ccb73e7d9bfdf27e036f1d2b8b681e55fc0743cc5586bc2474d4a60f4b886"
   }
  }
 },
 "nbformat": 4,
 "nbformat_minor": 2
}
